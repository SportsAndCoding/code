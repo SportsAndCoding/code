{
 "cells": [
  {
   "cell_type": "code",
   "execution_count": null,
   "id": "d9076fb2",
   "metadata": {},
   "outputs": [],
   "source": [
    "# Python Proofreading\n",
    "# pip install lmproof\n",
    "import lmproof\n",
    "def proofread(text):\n",
    "    proofread = lmproof.load(\"en\")\n",
    "    correction = proofread.proofread(text)\n",
    "    print(\"Original: {}\".format(text))\n",
    "    print(\"Correction: {}\".format(correction))\n",
    "    \n",
    "proofread(\"Your Text\")"
   ]
  }
 ],
 "metadata": {
  "kernelspec": {
   "display_name": "Python 3 (ipykernel)",
   "language": "python",
   "name": "python3"
  },
  "language_info": {
   "codemirror_mode": {
    "name": "ipython",
    "version": 3
   },
   "file_extension": ".py",
   "mimetype": "text/x-python",
   "name": "python",
   "nbconvert_exporter": "python",
   "pygments_lexer": "ipython3",
   "version": "3.9.12"
  }
 },
 "nbformat": 4,
 "nbformat_minor": 5
}
