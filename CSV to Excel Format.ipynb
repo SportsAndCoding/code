{
 "cells": [
  {
   "cell_type": "code",
   "execution_count": null,
   "id": "e7695f93",
   "metadata": {},
   "outputs": [],
   "source": [
    "#For automation purposes for a client, they wanted XLX format instead of csv\n",
    "import openpyxl\n",
    "import sys\n",
    "\n",
    "#inputs\n",
    "print(\"This programme writes the data in any Comma-separated value file (such as: .csv or .data) to a Excel file.\")\n",
    "print(\"The input and output files must be in the same directory of the python file for the programme to work.\\n\")\n",
    "\n",
    "csv_name = input(\"Name of the CSV file for input (with the extension): \")\n",
    "sep = input(\"Separator of the CSV file: \")\n",
    "excel_name = input(\"Name of the excel file for output (with the extension): \")\n",
    "sheet_name = input(\"Name of the excel sheet for output: \")\n",
    "\n",
    "#opening the files\n",
    "try:\n",
    "    wb = openpyxl.load_workbook(excel_name)\n",
    "    sheet = wb.get_sheet_by_name(sheet_name)\n",
    "\n",
    "    file = open(csv_name,\"r\",encoding = \"utf-8\")\n",
    "except:\n",
    "    print(\"File Error!\")\n",
    "    sys.exit()\n",
    "\n",
    "#rows and columns\n",
    "row = 1\n",
    "column = 1\n",
    "\n",
    "#for each line in the file\n",
    "for line in file:\n",
    "    #remove the \\n from the line and make it a list with the separator\n",
    "    line = line[:-1]\n",
    "    line = line.split(sep)\n",
    "\n",
    "    #for each data in the line\n",
    "    for data in line:\n",
    "        #write the data to the cell\n",
    "        sheet.cell(row,column).value = data\n",
    "        #after each data column number increases by 1\n",
    "        column += 1\n",
    "\n",
    "    #to write the next line column number is set to 1 and row number is increased by 1\n",
    "    column = 1\n",
    "    row += 1\n",
    "\n",
    "#saving the excel file and closing the csv file\n",
    "wb.save(excel_name)\n",
    "file.close()"
   ]
  }
 ],
 "metadata": {
  "kernelspec": {
   "display_name": "Python 3 (ipykernel)",
   "language": "python",
   "name": "python3"
  },
  "language_info": {
   "codemirror_mode": {
    "name": "ipython",
    "version": 3
   },
   "file_extension": ".py",
   "mimetype": "text/x-python",
   "name": "python",
   "nbconvert_exporter": "python",
   "pygments_lexer": "ipython3",
   "version": "3.9.12"
  }
 },
 "nbformat": 4,
 "nbformat_minor": 5
}
