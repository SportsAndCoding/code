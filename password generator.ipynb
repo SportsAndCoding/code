{
 "cells": [
  {
   "cell_type": "code",
   "execution_count": null,
   "id": "d6074dac",
   "metadata": {},
   "outputs": [],
   "source": [
    "# Generate Strong Random Passwords\n",
    "import random\n",
    "import string\n",
    "# This script will generate an 18 character password\n",
    "word_length = 18\n",
    "# Generate a list of letters, digits, and some punctuation\n",
    "components = [string.ascii_letters, string.digits, \"!@#$%&\"]\n",
    "# flatten the components into a list of characters\n",
    "chars = []\n",
    "for clist in components:\n",
    "  for item in clist:\n",
    "    chars.append(item)\n",
    "def generate_password():\n",
    "  # Store the generated password\n",
    "  password = []\n",
    "  # Choose a random item from 'chars' and add it to 'password'\n",
    "  for i in range(word_length):\n",
    "    rchar = random.choice(chars)\n",
    "    password.append(rchar)\n",
    "  # Return the composed password as a string\n",
    "  return \"\".join(password)\n",
    "# Output generated password\n",
    "print(generate_password())"
   ]
  }
 ],
 "metadata": {
  "kernelspec": {
   "display_name": "Python 3 (ipykernel)",
   "language": "python",
   "name": "python3"
  },
  "language_info": {
   "codemirror_mode": {
    "name": "ipython",
    "version": 3
   },
   "file_extension": ".py",
   "mimetype": "text/x-python",
   "name": "python",
   "nbconvert_exporter": "python",
   "pygments_lexer": "ipython3",
   "version": "3.9.12"
  }
 },
 "nbformat": 4,
 "nbformat_minor": 5
}
