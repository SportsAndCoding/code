{
 "cells": [
  {
   "cell_type": "code",
   "execution_count": null,
   "id": "3da16915",
   "metadata": {},
   "outputs": [],
   "source": [
    "import csv, smtplib, ssl\n",
    "\n",
    "from datetime import date\n",
    "\n",
    "\n",
    "today = date.today().strftime('%B %d, %Y')\n",
    "\n",
    "\n",
    "message = '''Subject: Your evaluation\n",
    "\n",
    "\n",
    "Hi {name}, the date of your Q1 evaluation is {date}. Your score is: {score}'''\n",
    "\n",
    "from_address = 'YOUR EMAIL ADDRESS'\n",
    "\n",
    "# You may need to create an app password for Gmail here: https://myaccount.google.com/apppasswords\n",
    "\n",
    "password = input('Enter password: ')\n",
    "\n",
    "\n",
    "context = ssl.create_default_context()\n",
    "\n",
    "with smtplib.SMTP_SSL('smtp.gmail.com', 465, context=context) as server:\n",
    "\n",
    "    server.login(from_address, password)\n",
    "\n",
    "    # use a customers.csv file with name, email, and score columns\n",
    "\n",
    "    with open('customers.csv') as file:\n",
    "\n",
    "        reader = csv.reader(file)\n",
    "\n",
    "        for name, email, score in reader:\n",
    "\n",
    "            server.sendmail(\n",
    "\n",
    "                from_address,\n",
    "\n",
    "                email,\n",
    "\n",
    "                message.format(name=name,date=today, score=score),\n",
    "\n",
    "            )"
   ]
  }
 ],
 "metadata": {
  "kernelspec": {
   "display_name": "Python 3 (ipykernel)",
   "language": "python",
   "name": "python3"
  },
  "language_info": {
   "codemirror_mode": {
    "name": "ipython",
    "version": 3
   },
   "file_extension": ".py",
   "mimetype": "text/x-python",
   "name": "python",
   "nbconvert_exporter": "python",
   "pygments_lexer": "ipython3",
   "version": "3.9.12"
  }
 },
 "nbformat": 4,
 "nbformat_minor": 5
}
