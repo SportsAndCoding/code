{
 "cells": [
  {
   "cell_type": "code",
   "execution_count": null,
   "id": "e7c16b4c",
   "metadata": {},
   "outputs": [],
   "source": [
    "# import module PyPDF2\n",
    "import PyPDF2\n",
    "# put 'example.pdf' in working directory\n",
    "# and open it in read binary mode\n",
    "pdfFileObj = open('example.pdf', 'rb')\n",
    "# call and store PdfFileReader\n",
    "# object in pdfReader\n",
    "pdfReader = PyPDF2.PdfFileReader(pdfFileObj)\n",
    "# to print the total number of pages in pdf\n",
    "# print(pdfReader.numPages)\n",
    "# get specific page of pdf by passing\n",
    "# number since it stores pages in list\n",
    "# to access first page pass 0\n",
    "pageObj = pdfReader.getPage(0)\n",
    "# extract the page object\n",
    "# by extractText() function\n",
    "texts = pageObj.extractText()\n",
    "# print the extracted texts\n",
    "print(texts)"
   ]
  }
 ],
 "metadata": {
  "kernelspec": {
   "display_name": "Python 3 (ipykernel)",
   "language": "python",
   "name": "python3"
  },
  "language_info": {
   "codemirror_mode": {
    "name": "ipython",
    "version": 3
   },
   "file_extension": ".py",
   "mimetype": "text/x-python",
   "name": "python",
   "nbconvert_exporter": "python",
   "pygments_lexer": "ipython3",
   "version": "3.9.12"
  }
 },
 "nbformat": 4,
 "nbformat_minor": 5
}
