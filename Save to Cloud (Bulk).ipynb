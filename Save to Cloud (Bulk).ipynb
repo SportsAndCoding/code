{
 "cells": [
  {
   "cell_type": "code",
   "execution_count": null,
   "id": "d41bcfaf",
   "metadata": {},
   "outputs": [],
   "source": [
    "from pydrive.auth import GoogleAuth\n",
    "\n",
    "from pydrive.drive import GoogleDrive\n",
    "\n",
    "\n",
    "google_auth = GoogleAuth()\n",
    "\n",
    "drive_app = GoogleDrive(google_auth)\n",
    "\n",
    "\n",
    "# Make sure files are in your root directory\n",
    "\n",
    "upload_list = ['test.png', 'test.jpg']\n",
    "\n",
    "\n",
    "for file_to_upload in upload_list:\n",
    "\n",
    "  # Navigate to your desired Google Drive folder and grab custom ID from URL path\n",
    "\n",
    "file = drive_app.CreateFile({'parents': [{'id': 'FOLDER_ID_FROM_GOOGLE_DRIVE'}]})\n",
    "\n",
    "file.SetContentFile(file_to_upload)\n",
    "\n",
    "file.Upload()"
   ]
  }
 ],
 "metadata": {
  "kernelspec": {
   "display_name": "Python 3 (ipykernel)",
   "language": "python",
   "name": "python3"
  },
  "language_info": {
   "codemirror_mode": {
    "name": "ipython",
    "version": 3
   },
   "file_extension": ".py",
   "mimetype": "text/x-python",
   "name": "python",
   "nbconvert_exporter": "python",
   "pygments_lexer": "ipython3",
   "version": "3.9.12"
  }
 },
 "nbformat": 4,
 "nbformat_minor": 5
}
