{
 "cells": [
  {
   "cell_type": "code",
   "execution_count": null,
   "id": "11cd9082",
   "metadata": {},
   "outputs": [],
   "source": [
    "# Internet Speed tester\n",
    "# pip install speedtest-cli\n",
    "import speedtest as st\n",
    "\n",
    "# Set Best Server\n",
    "server = st.Speedtest()\n",
    "server.get_best_server()\n",
    "\n",
    "# Test Download Speed\n",
    "down = server.download()\n",
    "down = down / 1000000\n",
    "print(f\"Download Speed: {down} Mb/s\")\n",
    "\n",
    "# Test Upload Speed\n",
    "up = server.upload()\n",
    "up = up / 1000000\n",
    "print(f\"Upload Speed: {up} Mb/s\")\n",
    "\n",
    "# Test Ping\n",
    "ping = server.results.ping\n",
    "print(f\"Ping Speed: {ping}\")"
   ]
  }
 ],
 "metadata": {
  "kernelspec": {
   "display_name": "Python 3 (ipykernel)",
   "language": "python",
   "name": "python3"
  },
  "language_info": {
   "codemirror_mode": {
    "name": "ipython",
    "version": 3
   },
   "file_extension": ".py",
   "mimetype": "text/x-python",
   "name": "python",
   "nbconvert_exporter": "python",
   "pygments_lexer": "ipython3",
   "version": "3.9.12"
  }
 },
 "nbformat": 4,
 "nbformat_minor": 5
}
