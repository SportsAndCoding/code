{
 "cells": [
  {
   "cell_type": "code",
   "execution_count": 1,
   "id": "2bbf5772",
   "metadata": {},
   "outputs": [
    {
     "name": "stdout",
     "output_type": "stream",
     "text": [
      "Defaulting to user installation because normal site-packages is not writeable\n",
      "Collecting easygui\n",
      "  Downloading easygui-0.98.3-py2.py3-none-any.whl (92 kB)\n",
      "Installing collected packages: easygui\n",
      "Successfully installed easygui-0.98.3\n",
      "Note: you may need to restart the kernel to use updated packages.\n"
     ]
    }
   ],
   "source": [
    "pip install easygui"
   ]
  },
  {
   "cell_type": "code",
   "execution_count": 2,
   "id": "327d84f0",
   "metadata": {},
   "outputs": [
    {
     "name": "stdout",
     "output_type": "stream",
     "text": [
      "Defaulting to user installation because normal site-packages is not writeable\n",
      "Collecting mgz\n",
      "  Downloading mgz-1.8.23-py3-none-any.whl (71 kB)\n",
      "Collecting construct==2.8.16\n",
      "  Downloading construct-2.8.16.tar.gz (63 kB)\n",
      "Collecting tabulate>=0.9.0\n",
      "  Downloading tabulate-0.9.0-py3-none-any.whl (35 kB)\n",
      "Collecting aocref>=2.0.16\n",
      "  Downloading aocref-2.0.16.tar.gz (79 kB)\n",
      "Building wheels for collected packages: construct, aocref\n",
      "  Building wheel for construct (setup.py): started\n",
      "  Building wheel for construct (setup.py): finished with status 'done'\n",
      "  Created wheel for construct: filename=construct-2.8.16-py2.py3-none-any.whl size=70258 sha256=252def3303156cb5917dbcab90360fd3814a874fead0f019f6d9ae279f525974\n",
      "  Stored in directory: c:\\users\\15139\\appdata\\local\\pip\\cache\\wheels\\dd\\af\\4b\\73dcec85b91cfdd37e6940ae7bf7a9803279526b941e91f21f\n",
      "  Building wheel for aocref (setup.py): started\n",
      "  Building wheel for aocref (setup.py): finished with status 'done'\n",
      "  Created wheel for aocref: filename=aocref-2.0.16-py3-none-any.whl size=93728 sha256=c7523653a3bcca6656c6fb8c05ba59c1355fa2b21f53f6cbb0ac6c5e44fde8f6\n",
      "  Stored in directory: c:\\users\\15139\\appdata\\local\\pip\\cache\\wheels\\aa\\59\\57\\34ac856f9c41dfce6e37549923e23e0573be4fcf4bb824db63\n",
      "Successfully built construct aocref\n",
      "Installing collected packages: tabulate, construct, aocref, mgz\n",
      "  Attempting uninstall: tabulate\n",
      "    Found existing installation: tabulate 0.8.10\n",
      "    Uninstalling tabulate-0.8.10:\n",
      "      Successfully uninstalled tabulate-0.8.10\n",
      "Successfully installed aocref-2.0.16 construct-2.8.16 mgz-1.8.23 tabulate-0.9.0\n",
      "Note: you may need to restart the kernel to use updated packages.\n"
     ]
    },
    {
     "name": "stderr",
     "output_type": "stream",
     "text": [
      "  WARNING: The script tabulate.exe is installed in 'C:\\Users\\15139\\AppData\\Roaming\\Python\\Python39\\Scripts' which is not on PATH.\n",
      "  Consider adding this directory to PATH or, if you prefer to suppress this warning, use --no-warn-script-location.\n",
      "  WARNING: The script mgz.exe is installed in 'C:\\Users\\15139\\AppData\\Roaming\\Python\\Python39\\Scripts' which is not on PATH.\n",
      "  Consider adding this directory to PATH or, if you prefer to suppress this warning, use --no-warn-script-location.\n"
     ]
    }
   ],
   "source": [
    "pip install mgz"
   ]
  },
  {
   "cell_type": "code",
   "execution_count": 3,
   "id": "fd5cf201",
   "metadata": {},
   "outputs": [],
   "source": [
    "import easygui\n",
    "from mgz.model import parse_match\n",
    "\n",
    "with open(easygui.fileopenbox(msg='Select aoe2 record file'), 'rb') as h:\n",
    "    match = parse_match(h)\n",
    "    result = []\n",
    "    for i in match.chat:\n",
    "        result.append('['+str(i.timestamp)[:-10]+']'+'('+str(i.audience)+')' + str(i)[16:]+'\\n')\n",
    "    easygui.msgbox(title='AOE2 Chat Parser', msg=''.join(result))"
   ]
  }
 ],
 "metadata": {
  "kernelspec": {
   "display_name": "Python 3 (ipykernel)",
   "language": "python",
   "name": "python3"
  },
  "language_info": {
   "codemirror_mode": {
    "name": "ipython",
    "version": 3
   },
   "file_extension": ".py",
   "mimetype": "text/x-python",
   "name": "python",
   "nbconvert_exporter": "python",
   "pygments_lexer": "ipython3",
   "version": "3.9.12"
  }
 },
 "nbformat": 4,
 "nbformat_minor": 5
}
