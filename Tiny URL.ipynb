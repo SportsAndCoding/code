{
 "cells": [
  {
   "cell_type": "code",
   "execution_count": null,
   "id": "25326afb",
   "metadata": {},
   "outputs": [],
   "source": [
    "from __future__ import with_statement\n",
    "import contextlib\n",
    "try:\n",
    "\tfrom urllib.parse import urlencode\n",
    "except ImportError:\n",
    "\tfrom urllib import urlencode\n",
    "try:\n",
    "\tfrom urllib.request import urlopen\n",
    "except ImportError:\n",
    "\tfrom urllib2 import urlopen\n",
    "import sys\n",
    "\n",
    "def make_tiny(url):\n",
    "\trequest_url = ('http://tinyurl.com/app-index.php?' + \n",
    "\turlencode({'url':url}))\n",
    "\twith contextlib.closing(urlopen(request_url)) as response:\n",
    "\t\treturn response.read().decode('utf-8')\n",
    "\n",
    "def main():\n",
    "\tfor tinyurl in map(make_tiny, sys.argv[1:]):\n",
    "\t\tprint(tinyurl)\n",
    "\n",
    "if __name__ == '__main__':\n",
    "\tmain()"
   ]
  }
 ],
 "metadata": {
  "kernelspec": {
   "display_name": "Python 3 (ipykernel)",
   "language": "python",
   "name": "python3"
  },
  "language_info": {
   "codemirror_mode": {
    "name": "ipython",
    "version": 3
   },
   "file_extension": ".py",
   "mimetype": "text/x-python",
   "name": "python",
   "nbconvert_exporter": "python",
   "pygments_lexer": "ipython3",
   "version": "3.9.12"
  }
 },
 "nbformat": 4,
 "nbformat_minor": 5
}
