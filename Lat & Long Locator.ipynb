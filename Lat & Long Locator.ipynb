{
 "cells": [
  {
   "cell_type": "code",
   "execution_count": 1,
   "id": "ca08cb7a",
   "metadata": {},
   "outputs": [
    {
     "ename": "ModuleNotFoundError",
     "evalue": "No module named 'geocoder'",
     "output_type": "error",
     "traceback": [
      "\u001b[1;31m---------------------------------------------------------------------------\u001b[0m",
      "\u001b[1;31mModuleNotFoundError\u001b[0m                       Traceback (most recent call last)",
      "Input \u001b[1;32mIn [1]\u001b[0m, in \u001b[0;36m<cell line: 2>\u001b[1;34m()\u001b[0m\n\u001b[0;32m      1\u001b[0m \u001b[38;5;66;03m#This is used as part of a delivery optimization algorithm for a client who owns the right to the algorithm. But essentially...\u001b[39;00m\n\u001b[1;32m----> 2\u001b[0m \u001b[38;5;28;01mimport\u001b[39;00m \u001b[38;5;21;01mgeocoder\u001b[39;00m\n\u001b[0;32m      3\u001b[0m address \u001b[38;5;241m=\u001b[39m \u001b[38;5;124m\"\u001b[39m\u001b[38;5;124m1600 Pennsylvania Ave NW, Washington DC USA\u001b[39m\u001b[38;5;124m\"\u001b[39m\n\u001b[0;32m      4\u001b[0m coordinates \u001b[38;5;241m=\u001b[39m geocoder\u001b[38;5;241m.\u001b[39marcgis(address)\n",
      "\u001b[1;31mModuleNotFoundError\u001b[0m: No module named 'geocoder'"
     ]
    }
   ],
   "source": [
    "#This is used as part of a delivery optimization algorithm for a client who owns the right to the algorithm. But essentially...\n",
    "#it was a genetic algorithm (traveling salesmen problem) to find optimal routes and schedules for delivery teams\n",
    "import geocoder\n",
    "address = \"1600 Pennsylvania Ave NW, Washington DC USA\"\n",
    "coordinates = geocoder.arcgis(address)\n",
    "geo = geocoder.arcgis(address)\n",
    "print(geo.latlng)\n",
    "# output: [38.89767510765125, -77.03654699820865]\n",
    "\n",
    "# If we want to retrieve the location from a set of coordinates\n",
    "# perform a reverse query.\n",
    "location = geocoder.arcgis([38.89767510765125, -77.03654699820865], method=\"reverse\")\n",
    "\n",
    "# output: <[OK] Arcgis - Reverse [White House]>\n",
    "print(location)"
   ]
  },
  {
   "cell_type": "code",
   "execution_count": null,
   "id": "a54a7dd6",
   "metadata": {},
   "outputs": [],
   "source": []
  }
 ],
 "metadata": {
  "kernelspec": {
   "display_name": "Python 3 (ipykernel)",
   "language": "python",
   "name": "python3"
  },
  "language_info": {
   "codemirror_mode": {
    "name": "ipython",
    "version": 3
   },
   "file_extension": ".py",
   "mimetype": "text/x-python",
   "name": "python",
   "nbconvert_exporter": "python",
   "pygments_lexer": "ipython3",
   "version": "3.9.12"
  }
 },
 "nbformat": 4,
 "nbformat_minor": 5
}
